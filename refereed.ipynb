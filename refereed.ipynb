{
 "metadata": {
  "name": ""
 },
 "nbformat": 3,
 "nbformat_minor": 0,
 "worksheets": [
  {
   "cells": [
    {
     "cell_type": "code",
     "collapsed": false,
     "input": [
      "import os, sys, json, requests\n",
      "import pandas as pd \n",
      "import numpy as np\n",
      "\n",
      "# base API search url\n",
      "BASE_URL = 'http://adslabs.org/adsabs/api/search/'\n",
      "\n",
      "# developer API access key\n",
      "DEV_KEY = 'eZgX5PXnBjqcwbtc'\n",
      "\n",
      "#reflists is a pything list holding the bibcodes of the publications we want to list out\n",
      "#returns a pandas dataframe that has information on publications we are insterested in\n",
      "def getBibInfo(reflist):\n",
      "\n",
      "\tdf=pd.DataFrame(columns=['bibcode','title','pub','volume','page','author', 'year'])\n",
      "\n",
      "\tfor i in reflist:\n",
      "\t\tparams={}\n",
      "\t\t#querry we are sending\n",
      "\t\tparams['q'] = \"bibcode:%s\" % i\n",
      "\n",
      "\t\t#stuff we want back\n",
      "\t\tparams['fl'] = 'title,pub,volume,page,pubdate,author'\n",
      "\n",
      "\t\t#we just want the first response\n",
      "\t\tparams['rows']=1\n",
      "\n",
      "\t\t#the developer acess key\n",
      "\t\tparams['dev_key']=DEV_KEY\n",
      "\n",
      "\t\t#store the response to the requet to ads\n",
      "\t\tr=requests.get(BASE_URL, params=params)\n",
      "\n",
      "\t\t#response is in json as default, parse it\n",
      "\t\tdata=json.loads(r.text)['results']['docs'][0]\n",
      "\n",
      "\t\t#we will store the data in the respons we are insterested in in \n",
      "\t\t#the dictionary 'citation'\n",
      "\t\tcitation={}\n",
      "\n",
      "\t\tcitation['title']=data['title'][0].encode('utf-8')\n",
      "\t\t\n",
      "\t\tif len(data['author']) > 1:\n",
      "\t\t\tcitation['author']=data['author'][0].encode('utf-8')+' et al.'\n",
      "\t\telse:\n",
      "\t\t\tcitation['author']=writers.encode('utf-8')\n",
      "\n",
      "\t\tcitation['bibcode']=i\n",
      "\t\tcitation['pub']=data['pub'].encode('utf-8')\n",
      "\t\tcitation['volume']=data['volume'].encode('utf-8')\n",
      "\t\tcitation['page']=data['page'][0].encode('utf-8')\n",
      "\t\tcitation['pubdate']=data['pubdate'].encode('utf-8')\n",
      "\t\tcitation['year']=data['pubdate'].split('-')[0].encode('utf-8')\n",
      "\t\t#print(citation['author']+' '+citation['year']+', '+citation['pub']+', '+citation['volume']+', '+citation['page']+\n",
      "\t\t#\t'. '+citation['title']+'\\n')\n",
      "\t\t\n",
      "\t\t#add the citation information as a row in the pd dataframe\n",
      "\t\tdf=df.append({\n",
      "\t\t\t'bibcode':citation['bibcode'],\n",
      "\t\t\t'pub':citation['pub'],\n",
      "\t\t\t'title':citation['title'],\n",
      "\t\t\t'volume':citation['volume'],\n",
      "\t\t\t'page':citation['page'],\n",
      "\t\t\t'year':citation['year'],\n",
      "\t\t\t'author':citation['author']\n",
      "\t\t\t}, ignore_index=True)\n",
      "\n",
      "\treturn df"
     ],
     "language": "python",
     "metadata": {},
     "outputs": [],
     "prompt_number": 1
    },
    {
     "cell_type": "code",
     "collapsed": false,
     "input": [
      "references=['2012ApJ...754...73B','2014AJ....147...85R','2012AJ....144..186K',\n",
      "            '2012ApJ...755..102Y','2011ApJ...736L..30D','2011ApJ...728..145M',\n",
      "            '2011MPBu...38....2F','2014ApJS..210....6L','2012ApJ...745...58G',\n",
      "            '2013AJ....146...83P','2011MNRAS.417.1881R','2011ApJ...742..113S']"
     ],
     "language": "python",
     "metadata": {},
     "outputs": [],
     "prompt_number": 2
    },
    {
     "cell_type": "code",
     "collapsed": false,
     "input": [
      "df=getBibInfo(references)"
     ],
     "language": "python",
     "metadata": {},
     "outputs": [],
     "prompt_number": 3
    },
    {
     "cell_type": "code",
     "collapsed": false,
     "input": [
      "years=np.unique(df['year'].values, return_inverse=False)[::-1]"
     ],
     "language": "python",
     "metadata": {},
     "outputs": [],
     "prompt_number": 4
    },
    {
     "cell_type": "code",
     "collapsed": false,
     "input": [
      "df[df['year']=='2014'].sort(columns='author')"
     ],
     "language": "python",
     "metadata": {},
     "outputs": [
      {
       "html": [
        "<div style=\"max-height:1000px;max-width:1500px;overflow:auto;\">\n",
        "<table border=\"1\" class=\"dataframe\">\n",
        "  <thead>\n",
        "    <tr style=\"text-align: right;\">\n",
        "      <th></th>\n",
        "      <th>bibcode</th>\n",
        "      <th>title</th>\n",
        "      <th>pub</th>\n",
        "      <th>volume</th>\n",
        "      <th>page</th>\n",
        "      <th>author</th>\n",
        "      <th>year</th>\n",
        "    </tr>\n",
        "  </thead>\n",
        "  <tbody>\n",
        "    <tr>\n",
        "      <th>7</th>\n",
        "      <td> 2014ApJS..210....6L</td>\n",
        "      <td> Toward a Better Understanding of the Distance ...</td>\n",
        "      <td> The Astrophysical Journal Supplement Series</td>\n",
        "      <td> 210</td>\n",
        "      <td>  6</td>\n",
        "      <td>     Lee, Jae-Woo et al.</td>\n",
        "      <td> 2014</td>\n",
        "    </tr>\n",
        "    <tr>\n",
        "      <th>1</th>\n",
        "      <td> 2014AJ....147...85R</td>\n",
        "      <td> The Solar Neighborhood. XXXIII. Parallax Resul...</td>\n",
        "      <td>                    The Astronomical Journal</td>\n",
        "      <td> 147</td>\n",
        "      <td> 85</td>\n",
        "      <td> Riedel, Adric R. et al.</td>\n",
        "      <td> 2014</td>\n",
        "    </tr>\n",
        "  </tbody>\n",
        "</table>\n",
        "<p>2 rows \u00d7 7 columns</p>\n",
        "</div>"
       ],
       "metadata": {},
       "output_type": "pyout",
       "prompt_number": 5,
       "text": [
        "               bibcode                                              title  \\\n",
        "7  2014ApJS..210....6L  Toward a Better Understanding of the Distance ...   \n",
        "1  2014AJ....147...85R  The Solar Neighborhood. XXXIII. Parallax Resul...   \n",
        "\n",
        "                                           pub volume page  \\\n",
        "7  The Astrophysical Journal Supplement Series    210    6   \n",
        "1                     The Astronomical Journal    147   85   \n",
        "\n",
        "                    author  year  \n",
        "7      Lee, Jae-Woo et al.  2014  \n",
        "1  Riedel, Adric R. et al.  2014  \n",
        "\n",
        "[2 rows x 7 columns]"
       ]
      }
     ],
     "prompt_number": 5
    },
    {
     "cell_type": "code",
     "collapsed": false,
     "input": [
      "def sortYearAuthor(df):\n",
      "    #figure out which years there are publications for, order them from greatest to least\n",
      "    years=np.unique(df['year'].values, return_inverse=False)[::-1]\n",
      "    \n",
      "    #subdf is a list that will hold a dataframe for each year\n",
      "    #each dataframe will be sorted by author\n",
      "    subdf=[]\n",
      "    for i in years:\n",
      "        subdf.append(df[df['year']==i].sort(columns='author'))\n",
      "    \n",
      "    return subdf"
     ],
     "language": "python",
     "metadata": {},
     "outputs": [],
     "prompt_number": 16
    },
    {
     "cell_type": "code",
     "collapsed": false,
     "input": [
      "subdf=sortYearAuthor(df)"
     ],
     "language": "python",
     "metadata": {},
     "outputs": [],
     "prompt_number": 17
    },
    {
     "cell_type": "code",
     "collapsed": false,
     "input": [
      "len(subdf)"
     ],
     "language": "python",
     "metadata": {},
     "outputs": [
      {
       "metadata": {},
       "output_type": "pyout",
       "prompt_number": 18,
       "text": [
        "4"
       ]
      }
     ],
     "prompt_number": 18
    },
    {
     "cell_type": "code",
     "collapsed": false,
     "input": [
      "subdf[0]['year'].values[0]"
     ],
     "language": "python",
     "metadata": {},
     "outputs": [
      {
       "metadata": {},
       "output_type": "pyout",
       "prompt_number": 23,
       "text": [
        "'2014'"
       ]
      }
     ],
     "prompt_number": 23
    },
    {
     "cell_type": "code",
     "collapsed": false,
     "input": [
      "htmlstufff='''\t\t\t\t\t\t\t\t\t<div class=\"4u\">\n",
      "\t\t\t\t\t\t\t\t\t\t<section>\n",
      "\t\t\t\t\t\t\t\t\t\t\t<a href=\"1.3m.html\" class=\"image featured\"><img src=\"images/ctio-1.3m.jpg\" alt=\"\" /></a>\n",
      "\t\t\t\t\t\t\t\t\t\t\t\t<h3>1.3-m + ANDICAM</h3>\n",
      "\t\t\t\t\t\t\t\t\t\t\t\t<p>Simultanious optical (6' x 6') and IR (2.5' x 3.5') imager. Observing preformed in queue and service mode.</p>\n",
      "\t\t\t\t\t\t\t\t\t\t\t</header>\n",
      "\t\t\t\t\t\t\t\t\t\t</section>\n",
      "\t\t\t\t\t\t\t\t\t</div>'''"
     ],
     "language": "python",
     "metadata": {},
     "outputs": [],
     "prompt_number": 13
    },
    {
     "cell_type": "code",
     "collapsed": false,
     "input": [
      "print htmlstufff"
     ],
     "language": "python",
     "metadata": {},
     "outputs": [
      {
       "output_type": "stream",
       "stream": "stdout",
       "text": [
        "\t\t\t\t\t\t\t\t\t<div class=\"4u\">\n",
        "\t\t\t\t\t\t\t\t\t\t<section>\n",
        "\t\t\t\t\t\t\t\t\t\t\t<a href=\"1.3m.html\" class=\"image featured\"><img src=\"images/ctio-1.3m.jpg\" alt=\"\" /></a>\n",
        "\t\t\t\t\t\t\t\t\t\t\t\t<h3>1.3-m + ANDICAM</h3>\n",
        "\t\t\t\t\t\t\t\t\t\t\t\t<p>Simultanious optical (6' x 6') and IR (2.5' x 3.5') imager. Observing preformed in queue and service mode.</p>\n",
        "\t\t\t\t\t\t\t\t\t\t\t</header>\n",
        "\t\t\t\t\t\t\t\t\t\t</section>\n",
        "\t\t\t\t\t\t\t\t\t</div>\n"
       ]
      }
     ],
     "prompt_number": 14
    },
    {
     "cell_type": "code",
     "collapsed": false,
     "input": [
      "def printHTML(subdf):\n",
      "    \n",
      "    #index over different dataframes\n",
      "    for index in range(0,len(subdf)):\n",
      "        #hacky way of writing the year this data frame is for\n",
      "        print('<h3>'+subdf[index]['year'].values[0]+'</h3>')\n",
      "        print('<div>')\n",
      "        print('<ul>')\n",
      "        for row, citation in subdf[index].iterrows():\n",
      "            print('<li>'+citation['author']+' '+citation['year']+', '+citation['pub']+', '+citation['volume']+', '+citation['page']+\n",
      "            '. '+'<a href=\"http://adsabs.harvard.edu/abs/'+citation['bibcode']+'\">'+citation['title']+'</a>'+'</li> \\n')\n",
      "        print('</ul>')\n",
      "        print('</div>')\n",
      "    return"
     ],
     "language": "python",
     "metadata": {},
     "outputs": [],
     "prompt_number": 34
    },
    {
     "cell_type": "code",
     "collapsed": false,
     "input": [
      "printHTML(subdf)"
     ],
     "language": "python",
     "metadata": {},
     "outputs": [
      {
       "output_type": "stream",
       "stream": "stdout",
       "text": [
        "<h3>2014</h3>\n",
        "<div>\n",
        "<ul>\n",
        "<li>Lee, Jae-Woo et al. 2014, The Astrophysical Journal Supplement Series, 210, 6. <a href=\"http://adsabs.harvard.edu/abs/2014ApJS..210....6L\">Toward a Better Understanding of the Distance Scale from RR Lyrae Variable Stars: A Case Study for the Inner Halo Globular Cluster NGC 6723</a></li> \n",
        "\n",
        "<li>Riedel, Adric R. et al. 2014, The Astronomical Journal, 147, 85. <a href=\"http://adsabs.harvard.edu/abs/2014AJ....147...85R\">The Solar Neighborhood. XXXIII. Parallax Results from the CTIOPI 0.9 m Program: Trigonometric Parallaxes of Nearby Low-mass Active and Young Systems</a></li> \n",
        "\n",
        "</ul>\n",
        "</div>\n",
        "<h3>2013</h3>\n",
        "<div>\n",
        "<ul>\n",
        "<li>Person, M. J. et al. 2013, The Astronomical Journal, 146, 83. <a href=\"http://adsabs.harvard.edu/abs/2013AJ....146...83P\">The 2011 June 23 Stellar Occultation by Pluto: Airborne and Ground Observations</a></li> \n",
        "\n",
        "</ul>\n",
        "</div>\n",
        "<h3>2012</h3>\n",
        "<div>\n",
        "<ul>\n",
        "<li>Bachelet, E. et al. 2012, The Astrophysical Journal, 754, 73. <a href=\"http://adsabs.harvard.edu/abs/2012ApJ...754...73B\">MOA 2010-BLG-477Lb: Constraining the Mass of a Microlensing Planet from Microlensing Parallax, Orbital Motion, and Detection of Blended Light</a></li> \n",
        "\n",
        "<li>G\u00f3mez Maqueo Chew, Yilen et al. 2012, The Astrophysical Journal, 745, 58. <a href=\"http://adsabs.harvard.edu/abs/2012ApJ...745...58G\">Luminosity Discrepancy in the Equal-mass, Pre-main-sequence Eclipsing Binary Par 1802: Non-coevality or Tidal Heating?</a></li> \n",
        "\n",
        "<li>Kuehn, Charles A. et al. 2012, The Astronomical Journal, 144, 186. <a href=\"http://adsabs.harvard.edu/abs/2012AJ....144..186K\">Variable Stars in Large Magellanic Cloud Globular Clusters. II. NGC 1786</a></li> \n",
        "\n",
        "<li>Yee, J. C. et al. 2012, The Astrophysical Journal, 755, 102. <a href=\"http://adsabs.harvard.edu/abs/2012ApJ...755..102Y\">MOA-2011-BLG-293Lb: A Test of Pure Survey Microlensing Planet Detections</a></li> \n",
        "\n",
        "</ul>\n",
        "</div>\n",
        "<h3>2011</h3>\n",
        "<div>\n",
        "<ul>\n",
        "<li>Donnarumma, I. et al. 2011, The Astrophysical Journal, 736, L30. <a href=\"http://adsabs.harvard.edu/abs/2011ApJ...736L..30D\">The Remarkable \u03b3-Ray Activity in the Gravitationally Lensed Blazar PKS 1830-211</a></li> \n",
        "\n",
        "<li>French, Linda M. et al. 2011, Minor Planet Bulletin, 38, 2. <a href=\"http://adsabs.harvard.edu/abs/2011MPBu...38....2F\">The Lightcurve of Jovian Trojan Asteroid 884 Priamus</a></li> \n",
        "\n",
        "<li>Mosquera, A. M. et al. 2011, The Astrophysical Journal, 728, 145. <a href=\"http://adsabs.harvard.edu/abs/2011ApJ...728..145M\">A Study of Gravitational Lens Chromaticity Using Ground-based Narrowband Photometry</a></li> \n",
        "\n",
        "<li>Rani, Bindu et al. 2011, Monthly Notices of the Royal Astronomical Society, 417, 1881. <a href=\"http://adsabs.harvard.edu/abs/2011MNRAS.417.1881R\">Spectral energy distribution variation in BL Lacs and flat spectrum radio quasars</a></li> \n",
        "\n",
        "<li>Schaefer, Bradley E. et al. 2011, The Astrophysical Journal, 742, 113. <a href=\"http://adsabs.harvard.edu/abs/2011ApJ...742..113S\">Eclipses during the 2010 Eruption of the Recurrent Nova U Scorpii</a></li> \n",
        "\n",
        "</ul>\n",
        "</div>\n"
       ]
      }
     ],
     "prompt_number": 35
    },
    {
     "cell_type": "code",
     "collapsed": false,
     "input": [],
     "language": "python",
     "metadata": {},
     "outputs": []
    }
   ],
   "metadata": {}
  }
 ]
}